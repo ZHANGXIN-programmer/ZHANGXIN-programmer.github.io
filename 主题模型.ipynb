{
 "cells": [
  {
   "cell_type": "code",
   "execution_count": 1,
   "metadata": {},
   "outputs": [],
   "source": [
    "import numpy as np\n",
    "import pandas as pd\n",
    "import re"
   ]
  },
  {
   "cell_type": "code",
   "execution_count": 2,
   "metadata": {},
   "outputs": [],
   "source": [
    "df = pd.read_csv(\"HillaryEmails.csv\")\n",
    "df = df[['Id','ExtractedBodyText']].dropna()"
   ]
  },
  {
   "cell_type": "code",
   "execution_count": 3,
   "metadata": {},
   "outputs": [],
   "source": [
    "def clean_email_text(text):\n",
    "    text = text.replace('\\n',\" \")\n",
    "    text = re.sub(r\"-\", \" \", text) \n",
    "    text = re.sub(r\"\\d+/\\d+/\\d+\", \"\", text)\n",
    "    text = re.sub(r\"[0-2]?[0-9]:[0-6][0-9]\", \"\", text)\n",
    "    text = re.sub(r\"[\\w]+@[\\.\\w]+\", \"\", text) #邮件地址，没意义\n",
    "    text = re.sub(r\"/[a-zA-Z]*[:\\//\\]*[A-Za-z0-9\\-_]+\\.+[A-Za-z0-9\\.\\/%&=\\?\\-_]+/i\", \"\", text) #网址，没意义\n",
    "    pure_text = ''\n",
    "    # 以防还有其他特殊字符（数字）等等，我们直接把他们loop一遍，过滤掉\n",
    "    for letter in text:\n",
    "        # 只留下字母和空格\n",
    "        if letter.isalpha() or letter==' ':\n",
    "            pure_text += letter\n",
    "    # 再把那些去除特殊字符后落单的单词，直接排除。\n",
    "    # 我们就只剩下有意义的单词了。\n",
    "    text = ' '.join(word for word in pure_text.split() if len(word)>1)\n",
    "    return text"
   ]
  },
  {
   "cell_type": "code",
   "execution_count": 4,
   "metadata": {},
   "outputs": [],
   "source": [
    "docs = df['ExtractedBodyText']\n",
    "docs = docs.apply(lambda s: clean_email_text(s))  "
   ]
  },
  {
   "cell_type": "code",
   "execution_count": 39,
   "metadata": {
    "scrolled": true
   },
   "outputs": [
    {
     "data": {
      "text/plain": [
       "'Thursday March PM Latest How Syria is aiding Qaddafi and more Sid hrc memo syria aiding libya docx hrc memo syria aiding libya docx March For Hillary'"
      ]
     },
     "execution_count": 39,
     "metadata": {},
     "output_type": "execute_result"
    }
   ],
   "source": [
    "docs[1]"
   ]
  },
  {
   "cell_type": "code",
   "execution_count": 15,
   "metadata": {},
   "outputs": [],
   "source": [
    "doclist = docs.values"
   ]
  },
  {
   "cell_type": "code",
   "execution_count": 16,
   "metadata": {},
   "outputs": [
    {
     "data": {
      "text/plain": [
       "'Thursday March PM Latest How Syria is aiding Qaddafi and more Sid hrc memo syria aiding libya docx hrc memo syria aiding libya docx March For Hillary'"
      ]
     },
     "execution_count": 16,
     "metadata": {},
     "output_type": "execute_result"
    }
   ],
   "source": [
    "doclist[0]"
   ]
  },
  {
   "cell_type": "code",
   "execution_count": 17,
   "metadata": {},
   "outputs": [
    {
     "data": {
      "text/plain": [
       "(6742,)"
      ]
     },
     "execution_count": 17,
     "metadata": {},
     "output_type": "execute_result"
    }
   ],
   "source": [
    "doclist.shape"
   ]
  },
  {
   "cell_type": "code",
   "execution_count": 18,
   "metadata": {},
   "outputs": [],
   "source": [
    "from gensim import corpora, models, similarities\n",
    "import gensim"
   ]
  },
  {
   "cell_type": "code",
   "execution_count": 19,
   "metadata": {},
   "outputs": [],
   "source": [
    "stoplist = ['very', 'ourselves', 'am', 'doesn', 'through', 'me', 'against', 'up', 'just', 'her', 'ours', \n",
    "            'couldn', 'because', 'is', 'isn', 'it', 'only', 'in', 'such', 'too', 'mustn', 'under', 'their', \n",
    "            'if', 'to', 'my', 'himself', 'after', 'why', 'while', 'can', 'each', 'itself', 'his', 'all', 'once', \n",
    "            'herself', 'more', 'our', 'they', 'hasn', 'on', 'ma', 'them', 'its', 'where', 'did', 'll', 'you', \n",
    "            'didn', 'nor', 'as', 'now', 'before', 'those', 'yours', 'from', 'who', 'was', 'm', 'been', 'will', \n",
    "            'into', 'same', 'how', 'some', 'of', 'out', 'with', 's', 'being', 't', 'mightn', 'she', 'again', 'be', \n",
    "            'by', 'shan', 'have', 'yourselves', 'needn', 'and', 'are', 'o', 'these', 'further', 'most', 'yourself', \n",
    "            'having', 'aren', 'here', 'he', 'were', 'but', 'this', 'myself', 'own', 'we', 'so', 'i', 'does', 'both', \n",
    "            'when', 'between', 'd', 'had', 'the', 'y', 'has', 'down', 'off', 'than', 'haven', 'whom', 'wouldn', \n",
    "            'should', 've', 'over', 'themselves', 'few', 'then', 'hadn', 'what', 'until', 'won', 'no', 'about', \n",
    "            'any', 'that', 'for', 'shouldn', 'don', 'do', 'there', 'doing', 'an', 'or', 'ain', 'hers', 'wasn', \n",
    "            'weren', 'above', 'a', 'at', 'your', 'theirs', 'below', 'other', 'not', 're', 'him', 'during', 'which']"
   ]
  },
  {
   "cell_type": "code",
   "execution_count": 20,
   "metadata": {},
   "outputs": [],
   "source": [
    "texts = [[word for word in doc.lower().split() if word not in stoplist] for doc in doclist]"
   ]
  },
  {
   "cell_type": "code",
   "execution_count": 24,
   "metadata": {},
   "outputs": [
    {
     "data": {
      "text/plain": [
       "['thursday',\n",
       " 'march',\n",
       " 'pm',\n",
       " 'latest',\n",
       " 'syria',\n",
       " 'aiding',\n",
       " 'qaddafi',\n",
       " 'sid',\n",
       " 'hrc',\n",
       " 'memo',\n",
       " 'syria',\n",
       " 'aiding',\n",
       " 'libya',\n",
       " 'docx',\n",
       " 'hrc',\n",
       " 'memo',\n",
       " 'syria',\n",
       " 'aiding',\n",
       " 'libya',\n",
       " 'docx',\n",
       " 'march',\n",
       " 'hillary']"
      ]
     },
     "execution_count": 24,
     "metadata": {},
     "output_type": "execute_result"
    }
   ],
   "source": [
    "texts[0]"
   ]
  },
  {
   "cell_type": "markdown",
   "metadata": {},
   "source": [
    "# building corpus"
   ]
  },
  {
   "cell_type": "code",
   "execution_count": 25,
   "metadata": {},
   "outputs": [],
   "source": [
    "dictionary = corpora.Dictionary(texts)\n",
    "corpus = [dictionary.doc2bow(text) for text in texts]"
   ]
  },
  {
   "cell_type": "code",
   "execution_count": 31,
   "metadata": {},
   "outputs": [
    {
     "data": {
      "text/plain": [
       "[(51, 1), (505, 1), (506, 1), (507, 1), (508, 1)]"
      ]
     },
     "execution_count": 31,
     "metadata": {},
     "output_type": "execute_result"
    }
   ],
   "source": [
    "corpus[13]"
   ]
  },
  {
   "cell_type": "markdown",
   "metadata": {},
   "source": [
    "No14 Email has 6 meaningful words. no 50 word appear once."
   ]
  },
  {
   "cell_type": "markdown",
   "metadata": {},
   "source": [
    "# building model"
   ]
  },
  {
   "cell_type": "code",
   "execution_count": 32,
   "metadata": {},
   "outputs": [],
   "source": [
    "lda = gensim.models.ldamodel.LdaModel(corpus=corpus, id2word=dictionary, num_topics=20)"
   ]
  },
  {
   "cell_type": "code",
   "execution_count": 44,
   "metadata": {},
   "outputs": [
    {
     "data": {
      "text/plain": [
       "'0.040*\"call\" + 0.012*\"pm\" + 0.011*\"talk\" + 0.011*\"sunday\" + 0.008*\"ops\"'"
      ]
     },
     "execution_count": 44,
     "metadata": {},
     "output_type": "execute_result"
    }
   ],
   "source": [
    "lda.print_topic(10, topn=5)"
   ]
  },
  {
   "cell_type": "code",
   "execution_count": 38,
   "metadata": {},
   "outputs": [
    {
     "data": {
      "text/plain": [
       "[(0,\n",
       "  '0.011*\"good\" + 0.010*\"miliband\" + 0.009*\"great\" + 0.007*\"see\" + 0.007*\"sounds\"'),\n",
       " (1,\n",
       "  '0.031*\"settlements\" + 0.027*\"israeli\" + 0.023*\"israel\" + 0.015*\"settlement\" + 0.012*\"boehner\"'),\n",
       " (2,\n",
       "  '0.024*\"pm\" + 0.013*\"office\" + 0.010*\"message\" + 0.009*\"sullivan\" + 0.009*\"huma\"'),\n",
       " (3,\n",
       "  '0.022*\"pls\" + 0.019*\"print\" + 0.008*\"north\" + 0.008*\"missile\" + 0.007*\"waldorf\"'),\n",
       " (4,\n",
       "  '0.008*\"senate\" + 0.007*\"us\" + 0.006*\"said\" + 0.006*\"state\" + 0.006*\"taliban\"'),\n",
       " (5,\n",
       "  '0.108*\"ok\" + 0.010*\"discuss\" + 0.009*\"cr\" + 0.007*\"isabelle\" + 0.006*\"lets\"'),\n",
       " (6,\n",
       "  '0.015*\"pm\" + 0.008*\"roger\" + 0.007*\"blackberry\" + 0.007*\"via\" + 0.006*\"claims\"'),\n",
       " (7,\n",
       "  '0.032*\"thx\" + 0.030*\"pis\" + 0.015*\"doc\" + 0.014*\"happy\" + 0.013*\"print\"'),\n",
       " (8,\n",
       "  '0.012*\"yes\" + 0.011*\"percent\" + 0.010*\"would\" + 0.008*\"democrats\" + 0.007*\"republican\"'),\n",
       " (9,\n",
       "  '0.113*\"pm\" + 0.049*\"office\" + 0.044*\"secretarys\" + 0.029*\"meeting\" + 0.028*\"room\"'),\n",
       " (10,\n",
       "  '0.040*\"call\" + 0.012*\"pm\" + 0.011*\"talk\" + 0.011*\"sunday\" + 0.008*\"ops\"'),\n",
       " (11,\n",
       "  '0.014*\"mr\" + 0.008*\"party\" + 0.008*\"would\" + 0.007*\"state\" + 0.007*\"us\"'),\n",
       " (12,\n",
       "  '0.011*\"call\" + 0.009*\"fm\" + 0.008*\"tomorrow\" + 0.006*\"today\" + 0.005*\"traffic\"'),\n",
       " (13,\n",
       "  '0.012*\"pm\" + 0.007*\"wjc\" + 0.007*\"calling\" + 0.006*\"ratification\" + 0.006*\"sent\"'),\n",
       " (14,\n",
       "  '0.011*\"us\" + 0.007*\"state\" + 0.007*\"email\" + 0.006*\"said\" + 0.006*\"secretary\"'),\n",
       " (15,\n",
       "  '0.008*\"us\" + 0.006*\"new\" + 0.006*\"one\" + 0.005*\"would\" + 0.005*\"people\"'),\n",
       " (16, '0.044*\"fyi\" + 0.014*\"pls\" + 0.013*\"fw\" + 0.011*\"see\" + 0.010*\"add\"'),\n",
       " (17,\n",
       "  '0.008*\"would\" + 0.007*\"obama\" + 0.005*\"get\" + 0.005*\"one\" + 0.005*\"president\"'),\n",
       " (18,\n",
       "  '0.008*\"health\" + 0.006*\"state\" + 0.005*\"us\" + 0.004*\"bill\" + 0.004*\"greek\"'),\n",
       " (19,\n",
       "  '0.012*\"beck\" + 0.010*\"kurdistan\" + 0.005*\"dc\" + 0.005*\"president\" + 0.005*\"strobe\"')]"
      ]
     },
     "execution_count": 38,
     "metadata": {},
     "output_type": "execute_result"
    }
   ],
   "source": [
    "lda.print_topics(num_topics=20, num_words=5)"
   ]
  },
  {
   "cell_type": "code",
   "execution_count": null,
   "metadata": {},
   "outputs": [],
   "source": []
  }
 ],
 "metadata": {
  "kernelspec": {
   "display_name": "Python 3",
   "language": "python",
   "name": "python3"
  },
  "language_info": {
   "codemirror_mode": {
    "name": "ipython",
    "version": 3
   },
   "file_extension": ".py",
   "mimetype": "text/x-python",
   "name": "python",
   "nbconvert_exporter": "python",
   "pygments_lexer": "ipython3",
   "version": "3.7.6"
  }
 },
 "nbformat": 4,
 "nbformat_minor": 4
}
